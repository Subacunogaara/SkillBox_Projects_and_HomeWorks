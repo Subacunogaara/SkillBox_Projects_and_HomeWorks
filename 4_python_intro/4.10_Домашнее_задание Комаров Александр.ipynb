{
 "cells": [
  {
   "cell_type": "markdown",
   "id": "a46773f4",
   "metadata": {
    "id": "a46773f4"
   },
   "source": [
    "# Цель домашнего задания:\n",
    "## Повторить пройденный в модуле материал:\n",
    "* работа в Jupyter Notebook;\n",
    "* арифметические операции;\n",
    "* работа с функцией print()."
   ]
  },
  {
   "cell_type": "markdown",
   "id": "9523c736",
   "metadata": {
    "id": "9523c736"
   },
   "source": [
    "## Что нужно сделать:"
   ]
  },
  {
   "cell_type": "markdown",
   "id": "edc32e30",
   "metadata": {
    "id": "edc32e30"
   },
   "source": [
    "1. В вашем отделе работает пять человек, их возраст 23, 27, 33, 41 и 62 года. Создайте новую ячейку и напишите в ней выражение, которое рассчитало бы средний возраст сотрудника вашего отдела."
   ]
  },
  {
   "cell_type": "markdown",
   "id": "ba0254b5",
   "metadata": {
    "id": "ba0254b5"
   },
   "source": [
    "2. По наследству вам досталась советская кафельная плитка размером 15х15 см, 200 штук. Создайте новую ячейку и напишите в ней выражение, которое рассчитывало бы площадь этой плитки в квадратных метрах."
   ]
  },
  {
   "cell_type": "markdown",
   "id": "56062770",
   "metadata": {
    "id": "56062770"
   },
   "source": [
    "3. Ваш друг решил заработать на День Святого Валентина. Он купил 5 упаковок роз по 100 штук в каждой и собрал их в букеты по 7 роз. Создайте новую ячейку и напишите выражение, которое рассчитывает, сколько целых букетов получится у вашего друга."
   ]
  },
  {
   "cell_type": "markdown",
   "id": "4671d6bb",
   "metadata": {
    "id": "4671d6bb"
   },
   "source": [
    "4. Сколько роз останется у вашего друга после того, как он соберет последний полный букет? В новой ячейке напишите выражение, которое рассчитывает это число."
   ]
  },
  {
   "cell_type": "markdown",
   "id": "cd1c1a60",
   "metadata": {
    "id": "cd1c1a60"
   },
   "source": [
    "5. Используя функцию print() в новой ячейке, напишите команду, которая выведет на экран ваше имя."
   ]
  },
  {
   "cell_type": "markdown",
   "id": "3111cf4d",
   "metadata": {
    "id": "3111cf4d"
   },
   "source": [
    "6. Запустите ячейку ниже и посмотрите, что получилось. Добавьте разделитель (аргумент sep), чтобы на выходе получилось, как у Блока в оригинале:"
   ]
  },
  {
   "cell_type": "code",
   "execution_count": 31,
   "id": "43d34899",
   "metadata": {
    "id": "43d34899"
   },
   "outputs": [
    {
     "name": "stdout",
     "output_type": "stream",
     "text": [
      "Ночь, улица, фонарь, аптека..."
     ]
    }
   ],
   "source": [
    "print('Ночь','улица','фонарь','аптека', sep=', ', end='...')"
   ]
  },
  {
   "cell_type": "markdown",
   "id": "978eb37b",
   "metadata": {
    "id": "978eb37b"
   },
   "source": [
    "7. На бензозаправке вы поняли, что проехав 255 км, вы потратили 19 литров бензина. Дополните команду в следующей ячейке таким образом, чтобы к тексту она выводила ещё и значение расхода:"
   ]
  },
  {
   "cell_type": "code",
   "execution_count": 32,
   "id": "23105d1d",
   "metadata": {
    "id": "23105d1d"
   },
   "outputs": [
    {
     "name": "stdout",
     "output_type": "stream",
     "text": [
      "Расход бензина на 100 км - 19 литров\n"
     ]
    }
   ],
   "source": [
    "spend = 19\n",
    "print('Расход бензина на 100 км -', spend, 'литров')"
   ]
  },
  {
   "cell_type": "markdown",
   "id": "2035e09d",
   "metadata": {},
   "source": [
    "1 задание"
   ]
  },
  {
   "cell_type": "code",
   "execution_count": 11,
   "id": "d191b880",
   "metadata": {},
   "outputs": [
    {
     "name": "stdout",
     "output_type": "stream",
     "text": [
      "Средний возраст сотрудника: 37\n"
     ]
    }
   ],
   "source": [
    "ages = (23, 27, 33, 41, 62)\n",
    "print('Средний возраст сотрудника:', int(round(sum(ages)/len(ages), 0)))"
   ]
  },
  {
   "cell_type": "markdown",
   "id": "b65ce757",
   "metadata": {},
   "source": [
    "2 задание"
   ]
  },
  {
   "cell_type": "code",
   "execution_count": 14,
   "id": "634b0772",
   "metadata": {
    "scrolled": true
   },
   "outputs": [
    {
     "name": "stdout",
     "output_type": "stream",
     "text": [
      "Площадь одной плитки: 0.0225 квадратных метров\n",
      "Площадь 200 плиток: 4.5 квадратных метров\n"
     ]
    }
   ],
   "source": [
    "num = 200 # количество плиток\n",
    "square_1_in_m = 15 * 15 * 0.0001 # площадь одной в квадратных метрах\n",
    "square_full = square_1_in_m * num # площадь всех плиток вместе в квадратных метрах\n",
    "print(f'Площадь одной плитки: {round(square_1_in_m, 4)} квадратных метров', f'Площадь {num} плиток: {round(square_full, 4)} квадратных метров', sep='\\n')"
   ]
  },
  {
   "cell_type": "markdown",
   "id": "691675e1",
   "metadata": {},
   "source": [
    "3 и 4 задания"
   ]
  },
  {
   "cell_type": "code",
   "execution_count": 26,
   "id": "07757f95",
   "metadata": {},
   "outputs": [
    {
     "name": "stdout",
     "output_type": "stream",
     "text": [
      "Получилось букетов: 71\n",
      "Осталось роз: 3\n"
     ]
    }
   ],
   "source": [
    "pack_num = 5 # количество упаковок\n",
    "rose_in_pack = 100 # количество роз в одной упаковке\n",
    "rose_in_bouquet = 7 # количество роз в букете\n",
    "bouquets = pack_num * rose_in_pack // rose_in_bouquet # целое количество букетов\n",
    "rose_left = pack_num * rose_in_pack % rose_in_bouquet # оставшиеся розы\n",
    "print('Получилось букетов:', bouquets)\n",
    "print('Осталось роз:', rose_left)"
   ]
  },
  {
   "cell_type": "markdown",
   "id": "40c065d9",
   "metadata": {},
   "source": [
    "5 задание"
   ]
  },
  {
   "cell_type": "code",
   "execution_count": 28,
   "id": "f76c7027",
   "metadata": {},
   "outputs": [
    {
     "name": "stdout",
     "output_type": "stream",
     "text": [
      "Саша Комаров\n"
     ]
    },
    {
     "data": {
      "text/plain": [
       "'Саша Комаров'"
      ]
     },
     "execution_count": 28,
     "metadata": {},
     "output_type": "execute_result"
    }
   ],
   "source": [
    "print('Саша Комаров')\n",
    "'Саша Комаров'"
   ]
  }
 ],
 "metadata": {
  "colab": {
   "name": "Модуль 4. Домашнее задание (Женя Ракина).ipynb",
   "provenance": []
  },
  "kernelspec": {
   "display_name": "Python 3 (ipykernel)",
   "language": "python",
   "name": "python3"
  },
  "language_info": {
   "codemirror_mode": {
    "name": "ipython",
    "version": 3
   },
   "file_extension": ".py",
   "mimetype": "text/x-python",
   "name": "python",
   "nbconvert_exporter": "python",
   "pygments_lexer": "ipython3",
   "version": "3.9.7"
  }
 },
 "nbformat": 4,
 "nbformat_minor": 5
}
