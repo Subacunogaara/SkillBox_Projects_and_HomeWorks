{
 "cells": [
  {
   "cell_type": "markdown",
   "id": "b878f3a7",
   "metadata": {
    "id": "b878f3a7"
   },
   "source": [
    "# Чтение файлов в Python и командной строке. Домашнее задание\n",
    "\n",
    "### Цели домашнего задания\n",
    "1. Научиться считывать информацию из файлов и соверщать над ней опервции с помощью кода на Python и командной строки.\n",
    "2. Закрепить навыки стыковки команд в конвейеры и установки внешних пакетов с помощью пакетного менеджера pip.\n"
   ]
  },
  {
   "cell_type": "markdown",
   "id": "8qwWbGel67S3",
   "metadata": {
    "id": "8qwWbGel67S3"
   },
   "source": [
    "### Что входит в задание\n",
    "1. Работа с файлами в командной строке.\n",
    "2. Работа с файлами в Python 1.\n",
    "3. Работа с файлами в Python 2.\n",
    "4. Импортирование модулей.\n",
    "5. Установка внешних модулей через pip.\n",
    "6. Бонусное задание\n",
    "\n",
    "### Критерии оценки\n",
    "Обязательные задания (1-5) выполнены верно. \n",
    "\n",
    "### Как отправить задание на проверку\n",
    "Все задания собраны в один Jupyter Notebook. Выполните их, сохраните изменения при помощи опции Save and Checkpoint из вкладки меню File или кнопки Save and Checkpoint на панели инструментов. Отправьте итоговый файл Jupyter Notebook (в формате .ipynb) или ссылку на него через форму ниже.\n"
   ]
  },
  {
   "cell_type": "markdown",
   "id": "a44f6df4",
   "metadata": {
    "id": "a44f6df4"
   },
   "source": [
    "## Задание 1. Работа с файлами в командной строке\n",
    "\n",
    "В уроках модуля вы считали количество всех слов в рассказе А. П. Чехова «Анна на шее». Теперь необходимо определить, сколько раз каждое слово встречается в тексте.\n",
    "\n",
    "По практике после урока 3 вы знаете команды sort и uniq, умеете с их помощью считать количество уникальных строк в построчном файле. В результате у вас должен был получиться такой конвейер команд: `cat anna_words.txt | sort | uniq | wc -l`.\n",
    "\n",
    "Команда cat перенаправляет слова из файла в команду sort, которая сортирует слова и передаёт упорядоченный список в команду uniq. Последняя удаляет дубликаты и направляет список уникальных слов в команду wc -l, которая их считает.\n",
    "\n",
    "### Что нужно сделать\n",
    "\n",
    "Посчитайте количество уникальных слов и определите частоту встречаемости каждого слова. Информацию в виде `частота слово` сохраните в текстовый файл. Для этого нужно:\n",
    "1. изменить конвейер команд так, чтобы он выводил слова и их частоту встречаемости на экран;\n",
    "2. перенаправить вывод конвейера в текстовый файл `words_freq.txt`.\n",
    "\n",
    "Если всё сделаете правильно, то получится текстовый файл `words_freq.txt`, в котором будут слова и их частота в виде:\n",
    "\n",
    "```\n",
    "...\n",
    "   1 по-прежнему\n",
    "   2 по-французски\n",
    "  40 аня\n",
    "   6 бал\n",
    "   1 бог\n",
    "   2 ваш\n",
    "   2 вид\n",
    "...\n",
    "```\n",
    "\n",
    "3. Скопируйте конвейер команд в ячейку, которая расположена непосредственно под этой.\n",
    "\n",
    "### Подсказки\n",
    "1. Ознакомьтесь с документацией команды uniq, обратите внимание на её ключ `-с`. Официальную документацию можно почитать прямо в командной строке: для этого выполните команду `man uniq`. Команда `man` (от английского manual) выводит справку для команды, которая передаётся в man как аргумент. Если читать текст в терминале непривычно, то можете поискать информацию в интернете.\n",
    "\n",
    "2. Перенаправить вывод команды в bash можно с помощью символа `>`. О том, как это сделать, читайте в интернете. Например, в статье [**«Перенаправление ввода вывода Linux»**](https://losst.ru/perenapravlenie-vvoda-vyvoda-linux). "
   ]
  },
  {
   "cell_type": "markdown",
   "id": "ac416392",
   "metadata": {
    "id": "ac416392"
   },
   "source": [
    "### Вставьте конвейер команд, который у вас получился, в эту ячейку. \n",
    "\n",
    "`cat anna_words.txt | sort | uniq -c > words_freq.txt`"
   ]
  },
  {
   "cell_type": "markdown",
   "id": "3952c1a6",
   "metadata": {
    "id": "3952c1a6"
   },
   "source": [
    "---\n",
    "\n",
    "## Задание 2. Работа с файлами в Python 1\n",
    "\n",
    "### Что нужно сделать\n",
    "В рассказе А. П. Чехова «Анна на шее» найдите десять слов, которые встречаются чаще всего. \n",
    "\n",
    "1. Напишите код на Python, который читает файл `word_freq.txt` по строкам, преобразует каждую из них в кортеж `(частота, слово)` и складывает полученные кортежи в список. \n",
    "2. Отсортируйте список по частотам, выведите на экран десять самых популярных слов и их частоты.\n",
    "\n",
    "### Подсказки\n",
    "1. Обратите внимание, что строки в файле содержат «лишние» символы: пробелы в начале и символ перевода строки в конце. Работать будет удобнее, если предварительно удалить их. Сделать это можно с помощью метода  `strip`. Ознакомьтесь с ним подробнее в [**официальной документации**](https://docs.python.org/3/library/stdtypes.html?highlight=strip#str.strip).\n",
    "\n",
    "2. Сейчас частота и слово — это одна строка, в которой они разделены пробелом. Их можно разделить с помощью метода [**`split`**](https://docs.python.org/3/library/stdtypes.html?highlight=split#str.split).\n",
    "\n",
    "3. Для сортировки в Python есть функция `sorted`. Она принимает на вход итерируемый объект, сравнивает его элементы между собой и возвращает с возвращает итерируемый объект, который отсортирован. По умолчанию функция размещает элементы в порядке возрастания. Например, `sorted([2, 4, 1, 0])` вернёт `[0, 1, 2, 4]`. Подробнее про работу функции можно почитать в [**официальной документации**](https://docs.python.org/3/library/functions.html?highlight=sorted#sorted)"
   ]
  },
  {
   "cell_type": "code",
   "execution_count": 1,
   "id": "c98e4d0b",
   "metadata": {
    "id": "c98e4d0b"
   },
   "outputs": [
    {
     "name": "stdout",
     "output_type": "stream",
     "text": [
      "(40, 'аня')\n",
      "(28, 'свой')\n",
      "(19, 'говорить')\n",
      "(17, 'это')\n",
      "(17, 'сказать')\n",
      "(17, 'модест')\n",
      "(17, 'который')\n",
      "(17, 'алексеич')\n",
      "(16, 'человек')\n",
      "(16, 'рука')\n"
     ]
    }
   ],
   "source": [
    "with open('words_freq.txt', encoding=\"utf-8\") as file:\n",
    "    words = [(int(word.strip().split()[0]), word.strip().split()[1]) for word in file.readlines()]\n",
    "for index in range(10): \n",
    "    print(sorted(words, reverse = True)[index])"
   ]
  },
  {
   "cell_type": "markdown",
   "id": "8639569c",
   "metadata": {
    "id": "8639569c"
   },
   "source": [
    "---\n",
    "\n",
    "## Задание 3. Работа с файлами в Python 2\n",
    "\n",
    "### Что нужно сделать\n",
    "Найдите букву, с которой чаще всего начинаются слова в рассказе А. П. Чехова «Анна на шее». \n",
    "1. Используйте файл с частотами слов `words_freq.txt`. \n",
    "2. Напишите код в Python, который выводит на экран самую популярную первую букву и количество слов на неё.\n",
    "\n",
    "\n",
    "### Подсказки\n",
    "Скорее всего, вы будете искать в словаре ключ с максимальным значением. Чтобы упростить работу, отсортируйте словарь. Сортировать словарь по значениям сложнее, чем список объектов, которые можно сравнивать непосредственно. Обратите внимание на параметр key функции [**sorted**](https://docs.python.org/3/library/functions.html?highlight=sorted#sorted)."
   ]
  },
  {
   "cell_type": "code",
   "execution_count": 2,
   "id": "6da9050c",
   "metadata": {
    "id": "6da9050c"
   },
   "outputs": [
    {
     "name": "stdout",
     "output_type": "stream",
     "text": [
      "('п', 318)\n"
     ]
    }
   ],
   "source": [
    "def count_leters(some_tuple, main_dict):\n",
    "    if some_tuple[1][0] in main_dict:\n",
    "        main_dict[some_tuple[1][0]] = main_dict[some_tuple[1][0]] + some_tuple[0]\n",
    "    else:\n",
    "        main_dict[some_tuple[1][0]] = some_tuple[0]\n",
    "\n",
    "with open('words_freq.txt', encoding=\"utf-8\") as file:\n",
    "    words = [(int(word.strip().split()[0]), word.strip().split()[1]) for word in file.readlines()]\n",
    "    \n",
    "words_dict = {}\n",
    "for couple in words:\n",
    "    count_leters(couple, words_dict)\n",
    "    \n",
    "sorted_leters_list = sorted(words_dict.items(), key = lambda item: item[1], reverse = True)\n",
    "print(sorted_leters_list[0])"
   ]
  },
  {
   "cell_type": "markdown",
   "id": "b94a18e9",
   "metadata": {
    "id": "b94a18e9"
   },
   "source": [
    "---\n",
    "\n",
    "## Задание 4. Импортирование модулей\n",
    "\n",
    "###Что нужно сделать\n",
    "Напишите функцию `circ_sqrt`. Она должна принимать один параметр `r` типа `float` и возвращать квадратный корень из длины окружности радиуса `r`.\n",
    "\n",
    "### Подсказки\n",
    "- Используйте функции встроенного модуля math.\n",
    "- В работе функции учтите область определения квадратного корня."
   ]
  },
  {
   "cell_type": "code",
   "execution_count": 3,
   "id": "f9ddadb6",
   "metadata": {
    "id": "f9ddadb6"
   },
   "outputs": [
    {
     "name": "stdout",
     "output_type": "stream",
     "text": [
      "6.000220980108902\n"
     ]
    }
   ],
   "source": [
    "import math\n",
    "\n",
    "def circ_sqrt(r):\n",
    "    circuit = 2 * math.pi * r\n",
    "    return math.sqrt(circuit)\n",
    "print(circ_sqrt(5.73))"
   ]
  },
  {
   "cell_type": "markdown",
   "id": "73df457b",
   "metadata": {
    "id": "73df457b"
   },
   "source": [
    "---\n",
    "\n",
    "## Задание 5. Установка внешних модулей через pip\n",
    "\n",
    "### Что нужно сделать\n",
    "\n",
    "Установите пакеты из PyPi с помощью пакетного менеджера pip и используйте их в коде. \n",
    "1. Установите пакет `cowsay`.\n",
    "2. Установите в систему пакет `wikipedia` — Python API для очень популярной онлайн-энциклопедии.\n",
    "3. Напишите функцию `random_article`, которая выводит на экран очень умную корову. Корова должна «рассказывать» краткое содержание случайной статьи из Википедии на английском языке.\n",
    "\n",
    "\n",
    "### Подсказки\n",
    "\n",
    "Вам понадобятся следующие функции пакета `wikipedia`:\n",
    "\n",
    "1. [**wikipedia.random**](https://wikipedia.readthedocs.io/en/latest/code.html#wikipedia.random)\n",
    "1. [**wikipedia.summary**](https://wikipedia.readthedocs.io/en/latest/code.html#wikipedia.summary)"
   ]
  },
  {
   "cell_type": "code",
   "execution_count": null,
   "id": "0ac65710",
   "metadata": {
    "id": "0ac65710"
   },
   "outputs": [],
   "source": [
    "!pip install cowsay wikipedia"
   ]
  },
  {
   "cell_type": "code",
   "execution_count": 4,
   "id": "3bcabb4d",
   "metadata": {},
   "outputs": [
    {
     "name": "stdout",
     "output_type": "stream",
     "text": [
      "  _________________________________________________\n",
      " /                                                 \\\n",
      "| The year 674 BC was a year of the pre-Julian Roma |\n",
      "| n calendar. In the Roman Empire, it was known as  |\n",
      "| year 80 Ab urbe condita . The denomination 674 BC |\n",
      "|  for this year has been used since the early medi |\n",
      "| eval period, when the Anno Domini calendar era be |\n",
      "| came the prevalent method in Europe for naming ye |\n",
      "| ars.                                              |\n",
      " \\                                                 /\n",
      "  =================================================\n",
      "                                                 \\\n",
      "                                                  \\\n",
      "                                                    ^__^\n",
      "                                                    (oo)\\_______\n",
      "                                                    (__)\\       )\\/\\\n",
      "                                                        ||----w |\n",
      "                                                        ||     ||\n"
     ]
    }
   ],
   "source": [
    "import cowsay\n",
    "import wikipedia\n",
    "\n",
    "def random_article():\n",
    "    return cowsay.cow(f'{wikipedia.summary(title = wikipedia.random())}')\n",
    "random_article()"
   ]
  },
  {
   "cell_type": "markdown",
   "id": "af263b7d",
   "metadata": {
    "id": "af263b7d"
   },
   "source": [
    "---\n",
    "\n",
    "## Задание 6. Бонусное\n",
    "\n",
    "### Что нужно сделать\n",
    "\n",
    "Выясните, как слова в рассказе «Анна на шее» распределяются по длине. \n",
    "\n",
    "1. Посчитайте, сколько слов длины 1, 2 и так далее в файле anna_words.txt.\n",
    "\n",
    "2. Выведите на экран информацию в формате `длина количество_слов`, отсортируйте её по возрастанию длины.\n",
    "\n",
    "3. Перенесите вывод программы в Excel или Google Таблицы и постройте столбчатую диаграмму. \n",
    "\n",
    "4. Сравните ваш график с [распределением русских слов по длине](http://nskhuman.ru/unislov/statist.php?nstat=21). В гистограмме по ссылке больше данных, поэтому она лучше показывает соотношение длины слов и их количества в русском языке.\n",
    "\n",
    "### Советы и рекомендации\n",
    "Вероятнее всего, вы снова будете использовать словарь. Ключами в нём будет длина слов, а значениями — количество слов этой длины. Обратите внимание, что словарь нужно сортировать по ключам, а не по значениям, как вы делали ранее."
   ]
  },
  {
   "cell_type": "code",
   "execution_count": 5,
   "id": "31cd934a",
   "metadata": {
    "id": "31cd934a"
   },
   "outputs": [
    {
     "name": "stdout",
     "output_type": "stream",
     "text": [
      "(1, 6)\n",
      "(2, 13)\n",
      "(3, 127)\n",
      "(4, 299)\n",
      "(5, 288)\n",
      "(6, 334)\n",
      "(7, 399)\n",
      "(8, 314)\n",
      "(9, 182)\n",
      "(10, 124)\n",
      "(11, 111)\n",
      "(12, 45)\n",
      "(13, 21)\n",
      "(14, 11)\n",
      "(15, 7)\n",
      "(16, 1)\n",
      "(17, 4)\n",
      "(18, 2)\n"
     ]
    }
   ],
   "source": [
    "def len_and_count(word, main_dict):\n",
    "    if len(word) in main_dict:\n",
    "        main_dict[len(word)] += 1\n",
    "    else:\n",
    "        main_dict[len(word)] = 1\n",
    "\n",
    "with open('anna_words.txt', encoding=\"utf-8\") as file:\n",
    "    words = [word.strip() for word in file.readlines()]\n",
    "    \n",
    "count_len_dict = {}\n",
    "for word in words:\n",
    "    len_and_count(word, count_len_dict)\n",
    "    \n",
    "for couple in sorted(count_len_dict.items()):\n",
    "    print(couple)"
   ]
  }
 ],
 "metadata": {
  "colab": {
   "collapsed_sections": [],
   "name": "11.6_Домашнее_задание.ipynb",
   "provenance": []
  },
  "kernelspec": {
   "display_name": "Python 3 (ipykernel)",
   "language": "python",
   "name": "python3"
  },
  "language_info": {
   "codemirror_mode": {
    "name": "ipython",
    "version": 3
   },
   "file_extension": ".py",
   "mimetype": "text/x-python",
   "name": "python",
   "nbconvert_exporter": "python",
   "pygments_lexer": "ipython3",
   "version": "3.9.7"
  }
 },
 "nbformat": 4,
 "nbformat_minor": 5
}
