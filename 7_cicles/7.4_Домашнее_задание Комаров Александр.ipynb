{
 "cells": [
  {
   "cell_type": "markdown",
   "metadata": {
    "id": "veTO4_6tQxFR"
   },
   "source": [
    "# Циклы. Домашнее задание\n",
    "\n",
    "### Цели задания \n",
    "Закрепить на практике применение циклов for, while и использование команд break, continue, pass.\n",
    "\n",
    "### Что нужно сделать\n",
    "Скачайте файл с заданием, откройте его через Jupyter Notebook и выполните задачи.\n",
    "\n",
    "### Что оценивается\n",
    "Для каждой задачи:\n",
    "- программа выполняет все требуемые действия;\n",
    "- результаты вычислений и операций корректны;\n",
    "- вывод производится в том виде, который описан в задаче;\n",
    "- переменные названы информативно.\n",
    "\n",
    "### Как отправить задание на проверку\n",
    "Выполните задачи, сохраните изменения при помощи опции Save and Checkpoint из вкладки меню File или кнопки Save and Checkpoint на панели инструментов. Отправьте через форму ниже итоговый файл Jupyter Notebook .ipynb или ссылку на него.\n",
    "\n"
   ]
  },
  {
   "cell_type": "markdown",
   "metadata": {
    "id": "r-2XwatHSvif"
   },
   "source": [
    "1. Напишите цикл, который выводит на печать все високосные годы, начиная с 2020 и заканчивая 2050."
   ]
  },
  {
   "cell_type": "code",
   "execution_count": 2,
   "metadata": {
    "id": "Zy0UG5ZwCx8Q"
   },
   "outputs": [
    {
     "name": "stdout",
     "output_type": "stream",
     "text": [
      "2020\n",
      "2024\n",
      "2028\n",
      "2032\n",
      "2036\n",
      "2040\n",
      "2044\n",
      "2048\n"
     ]
    }
   ],
   "source": [
    "for year in range(2020, 2051):\n",
    "    if year % 4 == 0:\n",
    "        print(year)"
   ]
  },
  {
   "cell_type": "markdown",
   "metadata": {
    "id": "grErwV6YS62m"
   },
   "source": [
    "2. Студент Джонсон поступил в университет и взял кредит на 120 тысяч долларов под 6% годовых. Все шесть лет учёбы в бакалавриате и магистратуре он не сможет выплачивать кредит и процент будет прибавляться к основному кредиту. Напишите программу, которая посчитает, сколько студент Джонсон должен будет банку к концу своего обучения."
   ]
  },
  {
   "cell_type": "code",
   "execution_count": 4,
   "metadata": {
    "id": "vyqbfM3sVp40"
   },
   "outputs": [
    {
     "name": "stdout",
     "output_type": "stream",
     "text": [
      "К концу своего обучения студент Джонсон должен будет банку: 170222.29 долларов\n"
     ]
    }
   ],
   "source": [
    "# Начальная сумма\n",
    "loan = 120000\n",
    "for year in range(6):\n",
    "    loan *= 1.06\n",
    "print('К концу своего обучения студент Джонсон должен будет банку:', round(loan, 2), 'долларов')"
   ]
  },
  {
   "cell_type": "markdown",
   "metadata": {
    "id": "-N68Ul6iXm6X"
   },
   "source": [
    "3. Вспомним задачку о [зёрнах на шахматной доске](https://ru.wikipedia.org/wiki/%D0%97%D0%B0%D0%B4%D0%B0%D1%87%D0%B0_%D0%BE_%D0%B7%D1%91%D1%80%D0%BD%D0%B0%D1%85_%D0%BD%D0%B0_%D1%88%D0%B0%D1%85%D0%BC%D0%B0%D1%82%D0%BD%D0%BE%D0%B9_%D0%B4%D0%BE%D1%81%D0%BA%D0%B5). На первую клетку кладётся одно зерно, на вторую — два зерна, на третью — четыре, затем — восемь. С каждой клеткой количество зёрен увеличивается в два раза.\n",
    "\n",
    "Напишите цикл, который выводил бы на печать порядковый номер клетки и количество зёрен на ней до тех пор, пока их количество на одной клетке не превысит 100 тысяч.\n"
   ]
  },
  {
   "cell_type": "code",
   "execution_count": 8,
   "metadata": {
    "id": "iqOEykTLXjFk"
   },
   "outputs": [
    {
     "name": "stdout",
     "output_type": "stream",
     "text": [
      "На 1й клетке 1 зёрен\n",
      "На 2й клетке 2 зёрен\n",
      "На 3й клетке 4 зёрен\n",
      "На 4й клетке 8 зёрен\n",
      "На 5й клетке 16 зёрен\n",
      "На 6й клетке 32 зёрен\n",
      "На 7й клетке 64 зёрен\n",
      "На 8й клетке 128 зёрен\n",
      "На 9й клетке 256 зёрен\n",
      "На 10й клетке 512 зёрен\n",
      "На 11й клетке 1024 зёрен\n",
      "На 12й клетке 2048 зёрен\n",
      "На 13й клетке 4096 зёрен\n",
      "На 14й клетке 8192 зёрен\n",
      "На 15й клетке 16384 зёрен\n",
      "На 16й клетке 32768 зёрен\n",
      "На 17й клетке 65536 зёрен\n"
     ]
    }
   ],
   "source": [
    "square_number = 1\n",
    "number_of_grains = 1\n",
    "while number_of_grains < 100000:\n",
    "    print('На', str(square_number) + 'й', 'клетке', number_of_grains, 'зёрен')\n",
    "    number_of_grains *= 2\n",
    "    square_number += 1"
   ]
  },
  {
   "cell_type": "markdown",
   "metadata": {
    "id": "oSkgnq73b62i"
   },
   "source": [
    "4. Напишите программу, которая проверяла бы все числа от 0 до 30. Если число делится на два, его нужно напечатать. Но если число делится и на четыре, его нужно пропустить."
   ]
  },
  {
   "cell_type": "code",
   "execution_count": 9,
   "metadata": {
    "id": "CYuIIxjOjwZd"
   },
   "outputs": [
    {
     "name": "stdout",
     "output_type": "stream",
     "text": [
      "2\n",
      "6\n",
      "10\n",
      "14\n",
      "18\n",
      "22\n",
      "26\n",
      "30\n"
     ]
    }
   ],
   "source": [
    "for i in range(1, 31):\n",
    "    if i % 2 == 0 and not i % 4 == 0:\n",
    "        print(i)"
   ]
  },
  {
   "cell_type": "markdown",
   "metadata": {
    "id": "VXoxvHZKjymf"
   },
   "source": [
    "5. Напишите программу, которая бесконечно запрашивает на ввод целое число. Если оно делится на три, то выводится на печать. Если делится на пять, то  на печать выводится его квадрат. Квадрат пишется даже для тех чисел, которые делятся на три. Если число делится на семь, нужно вывести на печать «дурак совсем» и прервать выполнение программы. Во всех остальных случаях программа должна снова запросить число на ввод."
   ]
  },
  {
   "cell_type": "code",
   "execution_count": 12,
   "metadata": {
    "id": "EEyux6ehlbI4"
   },
   "outputs": [
    {
     "name": "stdout",
     "output_type": "stream",
     "text": [
      "Введите целое число: 15\n",
      "225\n",
      "Введите целое число: 63\n",
      "дурак совсем\n"
     ]
    }
   ],
   "source": [
    "while True:\n",
    "    number = int(input('Введите целое число: '))\n",
    "    if number % 3 == 0 and not number % 7 == 0 and not number % 5 == 0:\n",
    "        print(number)\n",
    "    elif number % 5 == 0 and not number % 4 == 0:\n",
    "        print(number**2)\n",
    "    elif number % 7 == 0:\n",
    "        print('дурак совсем')\n",
    "        break        "
   ]
  }
 ],
 "metadata": {
  "colab": {
   "collapsed_sections": [],
   "name": "7.4_Домашнее_задание.ipynb",
   "provenance": []
  },
  "kernelspec": {
   "display_name": "Python 3 (ipykernel)",
   "language": "python",
   "name": "python3"
  },
  "language_info": {
   "codemirror_mode": {
    "name": "ipython",
    "version": 3
   },
   "file_extension": ".py",
   "mimetype": "text/x-python",
   "name": "python",
   "nbconvert_exporter": "python",
   "pygments_lexer": "ipython3",
   "version": "3.9.7"
  }
 },
 "nbformat": 4,
 "nbformat_minor": 1
}
